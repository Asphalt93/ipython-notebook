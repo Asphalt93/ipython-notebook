{
 "cells": [
  {
   "cell_type": "markdown",
   "metadata": {},
   "source": [
    "# 카이제곱 분포 와 F-분포 \n",
    "\n",
    "## 카이제곱 분포와 카이제곱 검정 \n",
    "\n",
    "k개의 서로 독립적이고 표준정규분포의 X의 제곱 $X_1,X_2 \\cdots ,X_k$를 통해서 얻어지는 변수이다. \n",
    "$$Q = \\sum_{i=1}^{k} X_i^2 $$\n",
    "카이제곱 분포는 감마분포의 특수한 형태이다.\n",
    "$$f(x;\\,k) = \\frac{1}{2^{k/2}\\Gamma(k/2)}\\,x^{k/2 - 1} e^{-x/2}\\, \\mathbf{1}_{\\{x\\geq0\\}}$$\n",
    "\n",
    "카이제곱분포의 "
   ]
  },
  {
   "cell_type": "code",
   "execution_count": null,
   "metadata": {
    "collapsed": true
   },
   "outputs": [],
   "source": []
  },
  {
   "cell_type": "markdown",
   "metadata": {},
   "source": [
    "카이제곱 검정은 모분산의 추정을 할때 쓰인다. "
   ]
  },
  {
   "cell_type": "markdown",
   "metadata": {},
   "source": [
    "## F분포 와 F검정 \n",
    "\n",
    "두 확률변수 $V_1,V_2$가 자유도가 $k_1,k_2$ 서로 독립인 카이제곱분포에 따른다고 할때, "
   ]
  },
  {
   "cell_type": "code",
   "execution_count": null,
   "metadata": {
    "collapsed": true
   },
   "outputs": [],
   "source": []
  }
 ],
 "metadata": {
  "hide_input": false,
  "kernelspec": {
   "display_name": "Python 3",
   "language": "python",
   "name": "python3"
  },
  "language_info": {
   "codemirror_mode": {
    "name": "ipython",
    "version": 3
   },
   "file_extension": ".py",
   "mimetype": "text/x-python",
   "name": "python",
   "nbconvert_exporter": "python",
   "pygments_lexer": "ipython3",
   "version": "3.6.0"
  }
 },
 "nbformat": 4,
 "nbformat_minor": 2
}
